{
 "cells": [
  {
   "cell_type": "code",
   "execution_count": 1,
   "metadata": {},
   "outputs": [],
   "source": [
    "import os\n",
    "import pandas as pd\n",
    "import numpy as np\n",
    "from tensorflow.keras.models import load_model\n",
    "from sklearn.preprocessing import LabelEncoder\n",
    "from tensorflow.keras.utils import to_categorical\n",
    "from sklearn.model_selection import train_test_split\n",
    "from tensorflow.keras.models import Sequential\n",
    "from tensorflow.keras.layers import Conv2D, MaxPooling2D, Flatten, Dense, Dropout, BatchNormalization\n",
    "from tensorflow.keras.callbacks import ModelCheckpoint, EarlyStopping\n",
    "from tensorflow.keras.models import load_model\n",
    "import cv2"
   ]
  },
  {
   "cell_type": "code",
   "execution_count": 2,
   "metadata": {},
   "outputs": [],
   "source": [
    "train = r\"C:\\Users\\LIYANA\\Downloads\\emotion-detection-fer\\train\"\n",
    "test = r\"C:\\Users\\LIYANA\\Downloads\\emotion-detection-fer\\test\""
   ]
  },
  {
   "cell_type": "code",
   "execution_count": 3,
   "metadata": {},
   "outputs": [],
   "source": [
    "def load_images(folder):\n",
    "    img = []\n",
    "    label = []\n",
    "    for sub in os.listdir(folder):\n",
    "        subpath = os.path.join(folder, sub)\n",
    "        if os.path.isdir(subpath):\n",
    "            lab = sub\n",
    "            for name in os.listdir(subpath):\n",
    "                imgpath = os.path.join(subpath, name)\n",
    "                im = cv2.imread(imgpath)\n",
    "\n",
    "                if im is not None:\n",
    "                    img.append(im)\n",
    "                    label.append(lab)\n",
    "\n",
    "    return img, label"
   ]
  },
  {
   "cell_type": "code",
   "execution_count": 4,
   "metadata": {},
   "outputs": [],
   "source": [
    "train_img, train_lab = load_images(train)\n",
    "train_img = np.array(train_img) / 255.0\n",
    "test_img, test_lab = load_images(test)\n",
    "test_img = np.array(test_img) / 255.0"
   ]
  },
  {
   "cell_type": "code",
   "execution_count": 5,
   "metadata": {},
   "outputs": [],
   "source": [
    "label_encoder = LabelEncoder()\n",
    "train_lab = label_encoder.fit_transform(train_lab)\n",
    "train_lab = to_categorical(train_lab, num_classes=7)\n",
    "test_lab = label_encoder.transform(test_lab)\n",
    "test_lab = to_categorical(test_lab, num_classes=7)"
   ]
  },
  {
   "cell_type": "code",
   "execution_count": 6,
   "metadata": {},
   "outputs": [],
   "source": [
    "X_train, X_val, y_train, y_val = train_test_split(train_img, train_lab, test_size=0.2, random_state=42)"
   ]
  },
  {
   "cell_type": "code",
   "execution_count": 7,
   "metadata": {},
   "outputs": [],
   "source": [
    "model = Sequential([\n",
    "    Conv2D(32, (3, 3), activation='relu', input_shape=(48, 48, 3)),\n",
    "    BatchNormalization(),\n",
    "    MaxPooling2D(pool_size=(2, 2)),\n",
    "    Dropout(0.25),\n",
    "\n",
    "    Conv2D(64, (3, 3), activation='relu'),\n",
    "    BatchNormalization(),\n",
    "    MaxPooling2D(pool_size=(2, 2)),\n",
    "    Dropout(0.25),\n",
    "\n",
    "    Conv2D(128, (3, 3), activation='relu'),\n",
    "    BatchNormalization(),\n",
    "    MaxPooling2D(pool_size=(2, 2)),\n",
    "    Dropout(0.25),\n",
    "\n",
    "    Flatten(),\n",
    "    Dense(512, activation='relu'),\n",
    "    BatchNormalization(),\n",
    "    Dropout(0.5),\n",
    "    Dense(7, activation='softmax')\n",
    "])"
   ]
  },
  {
   "cell_type": "code",
   "execution_count": 8,
   "metadata": {},
   "outputs": [],
   "source": [
    "model.compile(optimizer='adam', loss='categorical_crossentropy', metrics=['accuracy'])\n"
   ]
  },
  {
   "cell_type": "code",
   "execution_count": 9,
   "metadata": {},
   "outputs": [],
   "source": [
    "checkpoint = ModelCheckpoint('best_model.h5', monitor='val_loss', save_best_only=True, mode='min')\n",
    "early_stopping = EarlyStopping(monitor='val_loss', patience=10, restore_best_weights=True, mode='min')"
   ]
  },
  {
   "cell_type": "code",
   "execution_count": 11,
   "metadata": {},
   "outputs": [
    {
     "name": "stdout",
     "output_type": "stream",
     "text": [
      "Epoch 1/50\n",
      "359/359 [==============================] - 104s 288ms/step - loss: 1.5166 - accuracy: 0.4282 - val_loss: 1.4562 - val_accuracy: 0.4404\n",
      "Epoch 2/50\n",
      "359/359 [==============================] - 96s 269ms/step - loss: 1.3947 - accuracy: 0.4704 - val_loss: 1.3489 - val_accuracy: 0.4850\n",
      "Epoch 3/50\n",
      "359/359 [==============================] - 97s 270ms/step - loss: 1.3285 - accuracy: 0.4936 - val_loss: 1.3011 - val_accuracy: 0.5080\n",
      "Epoch 4/50\n",
      "359/359 [==============================] - 95s 264ms/step - loss: 1.2794 - accuracy: 0.5122 - val_loss: 1.4513 - val_accuracy: 0.4596\n",
      "Epoch 5/50\n",
      "359/359 [==============================] - 96s 266ms/step - loss: 1.2412 - accuracy: 0.5277 - val_loss: 1.2366 - val_accuracy: 0.5387\n",
      "Epoch 6/50\n",
      "359/359 [==============================] - 96s 268ms/step - loss: 1.2010 - accuracy: 0.5419 - val_loss: 1.2510 - val_accuracy: 0.5347\n",
      "Epoch 7/50\n",
      "359/359 [==============================] - 108s 301ms/step - loss: 1.1709 - accuracy: 0.5565 - val_loss: 1.1889 - val_accuracy: 0.5550\n",
      "Epoch 8/50\n",
      "359/359 [==============================] - 107s 298ms/step - loss: 1.1398 - accuracy: 0.5666 - val_loss: 1.2775 - val_accuracy: 0.5225\n",
      "Epoch 9/50\n",
      "359/359 [==============================] - 99s 275ms/step - loss: 1.1121 - accuracy: 0.5784 - val_loss: 1.3529 - val_accuracy: 0.5003\n",
      "Epoch 10/50\n",
      "359/359 [==============================] - 97s 270ms/step - loss: 1.0834 - accuracy: 0.5892 - val_loss: 1.1887 - val_accuracy: 0.5636\n",
      "Epoch 11/50\n",
      "359/359 [==============================] - 94s 262ms/step - loss: 1.0612 - accuracy: 0.5999 - val_loss: 1.2219 - val_accuracy: 0.5592\n",
      "Epoch 12/50\n",
      "359/359 [==============================] - 94s 262ms/step - loss: 1.0392 - accuracy: 0.6067 - val_loss: 1.1544 - val_accuracy: 0.5825\n",
      "Epoch 13/50\n",
      "359/359 [==============================] - 128s 358ms/step - loss: 1.0164 - accuracy: 0.6174 - val_loss: 1.2645 - val_accuracy: 0.5253\n",
      "Epoch 14/50\n",
      "359/359 [==============================] - 115s 321ms/step - loss: 0.9904 - accuracy: 0.6287 - val_loss: 1.2393 - val_accuracy: 0.5493\n",
      "Epoch 15/50\n",
      "359/359 [==============================] - 119s 331ms/step - loss: 0.9488 - accuracy: 0.6431 - val_loss: 1.1743 - val_accuracy: 0.5845\n",
      "Epoch 16/50\n",
      "359/359 [==============================] - 101s 280ms/step - loss: 0.9365 - accuracy: 0.6478 - val_loss: 1.1572 - val_accuracy: 0.5775\n",
      "Epoch 17/50\n",
      "359/359 [==============================] - 101s 280ms/step - loss: 0.9209 - accuracy: 0.6527 - val_loss: 1.2090 - val_accuracy: 0.5702\n",
      "Epoch 18/50\n",
      "359/359 [==============================] - 98s 272ms/step - loss: 0.8865 - accuracy: 0.6689 - val_loss: 1.2239 - val_accuracy: 0.5550\n",
      "Epoch 19/50\n",
      "359/359 [==============================] - 95s 266ms/step - loss: 0.8625 - accuracy: 0.6764 - val_loss: 1.2202 - val_accuracy: 0.5768\n",
      "Epoch 20/50\n",
      "359/359 [==============================] - 96s 267ms/step - loss: 0.8543 - accuracy: 0.6778 - val_loss: 1.1639 - val_accuracy: 0.5843\n",
      "Epoch 21/50\n",
      "359/359 [==============================] - 93s 258ms/step - loss: 0.8231 - accuracy: 0.6909 - val_loss: 1.1775 - val_accuracy: 0.5780\n",
      "Epoch 22/50\n",
      "359/359 [==============================] - 92s 257ms/step - loss: 0.8145 - accuracy: 0.6954 - val_loss: 1.1785 - val_accuracy: 0.5906\n"
     ]
    }
   ],
   "source": [
    "history = model.fit(X_train, y_train, epochs=50, batch_size=64, validation_data=(X_val, y_val), callbacks=[checkpoint, early_stopping])"
   ]
  },
  {
   "cell_type": "code",
   "execution_count": 12,
   "metadata": {},
   "outputs": [],
   "source": [
    "best_model = load_model('best_model.h5')"
   ]
  },
  {
   "cell_type": "code",
   "execution_count": 14,
   "metadata": {},
   "outputs": [
    {
     "name": "stdout",
     "output_type": "stream",
     "text": [
      "Saved model to C:\\Users\\LIYANA\\OneDrive\\Documents\\Projects\\best_model_copy.h5\n"
     ]
    }
   ],
   "source": [
    "import shutil\n",
    "\n",
    "source = 'best_model.h5'\n",
    "destination = r\"C:\\Users\\LIYANA\\OneDrive\\Documents\\Projects\\best_model_copy.h5\"  # Different filename\n",
    "\n",
    "shutil.copyfile(source, destination)\n",
    "print(f'Saved model to {destination}')"
   ]
  },
  {
   "cell_type": "code",
   "execution_count": null,
   "metadata": {},
   "outputs": [
    {
     "name": "stdout",
     "output_type": "stream",
     "text": [
      "180/180 [==============================] - 7s 33ms/step - loss: 1.1112 - accuracy: 0.6181\n",
      "Validation Loss: 1.1112223863601685\n",
      "Validation Accuracy: 0.6180773377418518\n"
     ]
    }
   ],
   "source": [
    "val_loss, val_accuracy = best_model.evaluate(X_val, y_val)\n",
    "print(f'Validation Loss: {val_loss}')\n",
    "print(f'Validation Accuracy: {val_accuracy}')"
   ]
  },
  {
   "cell_type": "code",
   "execution_count": null,
   "metadata": {},
   "outputs": [],
   "source": [
    "emotion_labels = ['Angry', 'Disgust', 'Fear', 'Happy', 'Sad', 'Surprise', 'Neutral']\n",
    "face_classifier = cv2.CascadeClassifier(cv2.data.haarcascades + 'haarcascade_frontalface_default.xml')"
   ]
  },
  {
   "cell_type": "code",
   "execution_count": null,
   "metadata": {},
   "outputs": [],
   "source": [
    "def detect_emotion(frame):\n",
    "    gray = cv2.cvtColor(frame, cv2.COLOR_BGR2GRAY)\n",
    "    faces = face_classifier.detectMultiScale(gray, 1.3, 5)\n",
    "    \n",
    "    for (x, y, w, h) in faces:\n",
    "        cv2.rectangle(frame, (x, y), (x+w, y+h), (255, 0, 0), 2)\n",
    "        roi_gray = gray[y:y+h, x:x+w]\n",
    "        roi_gray = cv2.resize(roi_gray, (48, 48), interpolation=cv2.INTER_AREA)\n",
    "        \n",
    "        if np.sum([roi_gray]) != 0:\n",
    "            roi = roi_gray.astype('float32') / 255.0\n",
    "            roi = np.expand_dims(roi, axis=0)\n",
    "            \n",
    "            prediction = best_model.predict(roi)[0]\n",
    "            max_index = int(np.argmax(prediction))\n",
    "            emotion = emotion_labels[max_index]\n",
    "            \n",
    "            label_position = (x, y-10)\n",
    "            cv2.putText(frame, emotion, label_position, cv2.FONT_HERSHEY_SIMPLEX, 1, (0, 255, 0), 2)\n",
    "        else:\n",
    "            cv2.putText(frame, 'No Face Found', (20, 60), cv2.FONT_HERSHEY_SIMPLEX, 1, (0, 255, 0), 2)\n",
    "    \n",
    "    return frame"
   ]
  },
  {
   "cell_type": "code",
   "execution_count": 27,
   "metadata": {},
   "outputs": [
    {
     "ename": "ValueError",
     "evalue": "in user code:\n\n    File \"C:\\Users\\LIYANA\\AppData\\Roaming\\Python\\Python311\\site-packages\\keras\\src\\engine\\training.py\", line 2341, in predict_function  *\n        return step_function(self, iterator)\n    File \"C:\\Users\\LIYANA\\AppData\\Roaming\\Python\\Python311\\site-packages\\keras\\src\\engine\\training.py\", line 2327, in step_function  **\n        outputs = model.distribute_strategy.run(run_step, args=(data,))\n    File \"C:\\Users\\LIYANA\\AppData\\Roaming\\Python\\Python311\\site-packages\\keras\\src\\engine\\training.py\", line 2315, in run_step  **\n        outputs = model.predict_step(data)\n    File \"C:\\Users\\LIYANA\\AppData\\Roaming\\Python\\Python311\\site-packages\\keras\\src\\engine\\training.py\", line 2283, in predict_step\n        return self(x, training=False)\n    File \"C:\\Users\\LIYANA\\AppData\\Roaming\\Python\\Python311\\site-packages\\keras\\src\\utils\\traceback_utils.py\", line 70, in error_handler\n        raise e.with_traceback(filtered_tb) from None\n    File \"C:\\Users\\LIYANA\\AppData\\Roaming\\Python\\Python311\\site-packages\\keras\\src\\engine\\input_spec.py\", line 253, in assert_input_compatibility\n        raise ValueError(\n\n    ValueError: Exception encountered when calling layer 'sequential' (type Sequential).\n    \n    Input 0 of layer \"conv2d\" is incompatible with the layer: expected min_ndim=4, found ndim=3. Full shape received: (None, 48, 48)\n    \n    Call arguments received by layer 'sequential' (type Sequential):\n      • inputs=tf.Tensor(shape=(None, 48, 48), dtype=float32)\n      • training=False\n      • mask=None\n",
     "output_type": "error",
     "traceback": [
      "\u001b[1;31m---------------------------------------------------------------------------\u001b[0m",
      "\u001b[1;31mValueError\u001b[0m                                Traceback (most recent call last)",
      "Cell \u001b[1;32mIn[27], line 9\u001b[0m\n\u001b[0;32m      6\u001b[0m \u001b[38;5;28;01mif\u001b[39;00m \u001b[38;5;129;01mnot\u001b[39;00m ret:\n\u001b[0;32m      7\u001b[0m     \u001b[38;5;28;01mbreak\u001b[39;00m\n\u001b[1;32m----> 9\u001b[0m frame \u001b[38;5;241m=\u001b[39m \u001b[43mdetect_emotion\u001b[49m\u001b[43m(\u001b[49m\u001b[43mframe\u001b[49m\u001b[43m)\u001b[49m\n\u001b[0;32m     10\u001b[0m cv2\u001b[38;5;241m.\u001b[39mimshow(\u001b[38;5;124m'\u001b[39m\u001b[38;5;124mEmotion Detector\u001b[39m\u001b[38;5;124m'\u001b[39m, frame)\n\u001b[0;32m     12\u001b[0m \u001b[38;5;28;01mif\u001b[39;00m cv2\u001b[38;5;241m.\u001b[39mwaitKey(\u001b[38;5;241m1\u001b[39m) \u001b[38;5;241m&\u001b[39m \u001b[38;5;241m0xFF\u001b[39m \u001b[38;5;241m==\u001b[39m \u001b[38;5;28mord\u001b[39m(\u001b[38;5;124m'\u001b[39m\u001b[38;5;124mq\u001b[39m\u001b[38;5;124m'\u001b[39m):\n",
      "Cell \u001b[1;32mIn[26], line 14\u001b[0m, in \u001b[0;36mdetect_emotion\u001b[1;34m(frame)\u001b[0m\n\u001b[0;32m     11\u001b[0m roi \u001b[38;5;241m=\u001b[39m roi_gray\u001b[38;5;241m.\u001b[39mastype(\u001b[38;5;124m'\u001b[39m\u001b[38;5;124mfloat32\u001b[39m\u001b[38;5;124m'\u001b[39m) \u001b[38;5;241m/\u001b[39m \u001b[38;5;241m255.0\u001b[39m\n\u001b[0;32m     12\u001b[0m roi \u001b[38;5;241m=\u001b[39m np\u001b[38;5;241m.\u001b[39mexpand_dims(roi, axis\u001b[38;5;241m=\u001b[39m\u001b[38;5;241m0\u001b[39m)\n\u001b[1;32m---> 14\u001b[0m prediction \u001b[38;5;241m=\u001b[39m \u001b[43mbest_model\u001b[49m\u001b[38;5;241;43m.\u001b[39;49m\u001b[43mpredict\u001b[49m\u001b[43m(\u001b[49m\u001b[43mroi\u001b[49m\u001b[43m)\u001b[49m[\u001b[38;5;241m0\u001b[39m]\n\u001b[0;32m     15\u001b[0m max_index \u001b[38;5;241m=\u001b[39m \u001b[38;5;28mint\u001b[39m(np\u001b[38;5;241m.\u001b[39margmax(prediction))\n\u001b[0;32m     16\u001b[0m emotion \u001b[38;5;241m=\u001b[39m emotion_labels[max_index]\n",
      "File \u001b[1;32m~\\AppData\\Roaming\\Python\\Python311\\site-packages\\keras\\src\\utils\\traceback_utils.py:70\u001b[0m, in \u001b[0;36mfilter_traceback.<locals>.error_handler\u001b[1;34m(*args, **kwargs)\u001b[0m\n\u001b[0;32m     67\u001b[0m     filtered_tb \u001b[38;5;241m=\u001b[39m _process_traceback_frames(e\u001b[38;5;241m.\u001b[39m__traceback__)\n\u001b[0;32m     68\u001b[0m     \u001b[38;5;66;03m# To get the full stack trace, call:\u001b[39;00m\n\u001b[0;32m     69\u001b[0m     \u001b[38;5;66;03m# `tf.debugging.disable_traceback_filtering()`\u001b[39;00m\n\u001b[1;32m---> 70\u001b[0m     \u001b[38;5;28;01mraise\u001b[39;00m e\u001b[38;5;241m.\u001b[39mwith_traceback(filtered_tb) \u001b[38;5;28;01mfrom\u001b[39;00m \u001b[38;5;28;01mNone\u001b[39;00m\n\u001b[0;32m     71\u001b[0m \u001b[38;5;28;01mfinally\u001b[39;00m:\n\u001b[0;32m     72\u001b[0m     \u001b[38;5;28;01mdel\u001b[39;00m filtered_tb\n",
      "File \u001b[1;32m~\\AppData\\Local\\Temp\\__autograph_generated_filewvo439h1.py:15\u001b[0m, in \u001b[0;36mouter_factory.<locals>.inner_factory.<locals>.tf__predict_function\u001b[1;34m(iterator)\u001b[0m\n\u001b[0;32m     13\u001b[0m \u001b[38;5;28;01mtry\u001b[39;00m:\n\u001b[0;32m     14\u001b[0m     do_return \u001b[38;5;241m=\u001b[39m \u001b[38;5;28;01mTrue\u001b[39;00m\n\u001b[1;32m---> 15\u001b[0m     retval_ \u001b[38;5;241m=\u001b[39m ag__\u001b[38;5;241m.\u001b[39mconverted_call(ag__\u001b[38;5;241m.\u001b[39mld(step_function), (ag__\u001b[38;5;241m.\u001b[39mld(\u001b[38;5;28mself\u001b[39m), ag__\u001b[38;5;241m.\u001b[39mld(iterator)), \u001b[38;5;28;01mNone\u001b[39;00m, fscope)\n\u001b[0;32m     16\u001b[0m \u001b[38;5;28;01mexcept\u001b[39;00m:\n\u001b[0;32m     17\u001b[0m     do_return \u001b[38;5;241m=\u001b[39m \u001b[38;5;28;01mFalse\u001b[39;00m\n",
      "\u001b[1;31mValueError\u001b[0m: in user code:\n\n    File \"C:\\Users\\LIYANA\\AppData\\Roaming\\Python\\Python311\\site-packages\\keras\\src\\engine\\training.py\", line 2341, in predict_function  *\n        return step_function(self, iterator)\n    File \"C:\\Users\\LIYANA\\AppData\\Roaming\\Python\\Python311\\site-packages\\keras\\src\\engine\\training.py\", line 2327, in step_function  **\n        outputs = model.distribute_strategy.run(run_step, args=(data,))\n    File \"C:\\Users\\LIYANA\\AppData\\Roaming\\Python\\Python311\\site-packages\\keras\\src\\engine\\training.py\", line 2315, in run_step  **\n        outputs = model.predict_step(data)\n    File \"C:\\Users\\LIYANA\\AppData\\Roaming\\Python\\Python311\\site-packages\\keras\\src\\engine\\training.py\", line 2283, in predict_step\n        return self(x, training=False)\n    File \"C:\\Users\\LIYANA\\AppData\\Roaming\\Python\\Python311\\site-packages\\keras\\src\\utils\\traceback_utils.py\", line 70, in error_handler\n        raise e.with_traceback(filtered_tb) from None\n    File \"C:\\Users\\LIYANA\\AppData\\Roaming\\Python\\Python311\\site-packages\\keras\\src\\engine\\input_spec.py\", line 253, in assert_input_compatibility\n        raise ValueError(\n\n    ValueError: Exception encountered when calling layer 'sequential' (type Sequential).\n    \n    Input 0 of layer \"conv2d\" is incompatible with the layer: expected min_ndim=4, found ndim=3. Full shape received: (None, 48, 48)\n    \n    Call arguments received by layer 'sequential' (type Sequential):\n      • inputs=tf.Tensor(shape=(None, 48, 48), dtype=float32)\n      • training=False\n      • mask=None\n"
     ]
    }
   ],
   "source": [
    "from tensorflow.keras.preprocessing.image import img_to_array\n",
    "cap = cv2.VideoCapture(0)\n",
    "\n",
    "while True:\n",
    "    ret, frame = cap.read()\n",
    "    if not ret:\n",
    "        break\n",
    "    \n",
    "    frame = detect_emotion(frame)\n",
    "    cv2.imshow('Emotion Detector', frame)\n",
    "    \n",
    "    if cv2.waitKey(1) & 0xFF == ord('q'):\n",
    "        break\n",
    "\n",
    "cap.release()\n",
    "cv2.destroyAllWindows()"
   ]
  },
  {
   "cell_type": "code",
   "execution_count": null,
   "metadata": {},
   "outputs": [],
   "source": []
  }
 ],
 "metadata": {
  "kernelspec": {
   "display_name": "Python 3",
   "language": "python",
   "name": "python3"
  },
  "language_info": {
   "codemirror_mode": {
    "name": "ipython",
    "version": 3
   },
   "file_extension": ".py",
   "mimetype": "text/x-python",
   "name": "python",
   "nbconvert_exporter": "python",
   "pygments_lexer": "ipython3",
   "version": "3.11.5"
  }
 },
 "nbformat": 4,
 "nbformat_minor": 2
}
