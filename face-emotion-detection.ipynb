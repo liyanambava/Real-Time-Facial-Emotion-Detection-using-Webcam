{
 "cells": [
  {
   "cell_type": "code",
   "execution_count": 1,
   "metadata": {},
   "outputs": [],
   "source": [
    "import os\n",
    "import pandas as pd\n",
    "import numpy as np\n",
    "from tensorflow.keras.models import load_model\n",
    "from sklearn.preprocessing import LabelEncoder\n",
    "from tensorflow.keras.utils import to_categorical\n",
    "from sklearn.model_selection import train_test_split\n",
    "from tensorflow.keras.models import Sequential\n",
    "from tensorflow.keras.layers import Conv2D, MaxPooling2D, Flatten, Dense, Dropout, BatchNormalization\n",
    "from tensorflow.keras.callbacks import ModelCheckpoint, EarlyStopping\n",
    "from tensorflow.keras.models import load_model\n",
    "import cv2"
   ]
  },
  {
   "cell_type": "code",
   "execution_count": 2,
   "metadata": {},
   "outputs": [],
   "source": [
    "train = r\"C:\\Users\\LIYANA\\Downloads\\emotion-detection-fer\\train\"\n",
    "test = r\"C:\\Users\\LIYANA\\Downloads\\emotion-detection-fer\\test\""
   ]
  },
  {
   "cell_type": "code",
   "execution_count": 3,
   "metadata": {},
   "outputs": [],
   "source": [
    "def load_images(folder):\n",
    "    img = []\n",
    "    label = []\n",
    "    for sub in os.listdir(folder):\n",
    "        subpath = os.path.join(folder, sub)\n",
    "        if os.path.isdir(subpath):\n",
    "            lab = sub\n",
    "            for name in os.listdir(subpath):\n",
    "                imgpath = os.path.join(subpath, name)\n",
    "                im = cv2.imread(imgpath)\n",
    "\n",
    "                if im is not None:\n",
    "                    img.append(im)\n",
    "                    label.append(lab)\n",
    "\n",
    "    return img, label"
   ]
  },
  {
   "cell_type": "code",
   "execution_count": 4,
   "metadata": {},
   "outputs": [],
   "source": [
    "train_img, train_lab = load_images(train)\n",
    "train_img = np.array(train_img) / 255.0\n",
    "test_img, test_lab = load_images(test)\n",
    "test_img = np.array(test_img) / 255.0"
   ]
  },
  {
   "cell_type": "code",
   "execution_count": 5,
   "metadata": {},
   "outputs": [],
   "source": [
    "label_encoder = LabelEncoder()\n",
    "train_lab = label_encoder.fit_transform(train_lab)\n",
    "train_lab = to_categorical(train_lab, num_classes=7)\n",
    "test_lab = label_encoder.transform(test_lab)\n",
    "test_lab = to_categorical(test_lab, num_classes=7)"
   ]
  },
  {
   "cell_type": "code",
   "execution_count": 6,
   "metadata": {},
   "outputs": [],
   "source": [
    "X_train, X_val, y_train, y_val = train_test_split(train_img, train_lab, test_size=0.2, random_state=42)"
   ]
  },
  {
   "cell_type": "code",
   "execution_count": 7,
   "metadata": {},
   "outputs": [],
   "source": [
    "model = Sequential([\n",
    "    Conv2D(32, (3, 3), activation='relu', input_shape=(48, 48, 3)),\n",
    "    BatchNormalization(),\n",
    "    MaxPooling2D(pool_size=(2, 2)),\n",
    "    Dropout(0.25),\n",
    "\n",
    "    Conv2D(64, (3, 3), activation='relu'),\n",
    "    BatchNormalization(),\n",
    "    MaxPooling2D(pool_size=(2, 2)),\n",
    "    Dropout(0.25),\n",
    "\n",
    "    Conv2D(128, (3, 3), activation='relu'),\n",
    "    BatchNormalization(),\n",
    "    MaxPooling2D(pool_size=(2, 2)),\n",
    "    Dropout(0.25),\n",
    "\n",
    "    Flatten(),\n",
    "    Dense(512, activation='relu'),\n",
    "    BatchNormalization(),\n",
    "    Dropout(0.5),\n",
    "    Dense(7, activation='softmax')\n",
    "])"
   ]
  },
  {
   "cell_type": "code",
   "execution_count": 8,
   "metadata": {},
   "outputs": [],
   "source": [
    "model.compile(optimizer='adam', loss='categorical_crossentropy', metrics=['accuracy'])\n"
   ]
  },
  {
   "cell_type": "code",
   "execution_count": 9,
   "metadata": {},
   "outputs": [],
   "source": [
    "checkpoint = ModelCheckpoint('best_model.h5', monitor='val_loss', save_best_only=True, mode='min')\n",
    "early_stopping = EarlyStopping(monitor='val_loss', patience=10, restore_best_weights=True, mode='min')"
   ]
  },
  {
   "cell_type": "code",
   "execution_count": 11,
   "metadata": {},
   "outputs": [
    {
     "name": "stdout",
     "output_type": "stream",
     "text": [
      "Epoch 1/50\n",
      "359/359 [==============================] - 104s 288ms/step - loss: 1.5166 - accuracy: 0.4282 - val_loss: 1.4562 - val_accuracy: 0.4404\n",
      "Epoch 2/50\n",
      "359/359 [==============================] - 96s 269ms/step - loss: 1.3947 - accuracy: 0.4704 - val_loss: 1.3489 - val_accuracy: 0.4850\n",
      "Epoch 3/50\n",
      "359/359 [==============================] - 97s 270ms/step - loss: 1.3285 - accuracy: 0.4936 - val_loss: 1.3011 - val_accuracy: 0.5080\n",
      "Epoch 4/50\n",
      "359/359 [==============================] - 95s 264ms/step - loss: 1.2794 - accuracy: 0.5122 - val_loss: 1.4513 - val_accuracy: 0.4596\n",
      "Epoch 5/50\n",
      "359/359 [==============================] - 96s 266ms/step - loss: 1.2412 - accuracy: 0.5277 - val_loss: 1.2366 - val_accuracy: 0.5387\n",
      "Epoch 6/50\n",
      "359/359 [==============================] - 96s 268ms/step - loss: 1.2010 - accuracy: 0.5419 - val_loss: 1.2510 - val_accuracy: 0.5347\n",
      "Epoch 7/50\n",
      "359/359 [==============================] - 108s 301ms/step - loss: 1.1709 - accuracy: 0.5565 - val_loss: 1.1889 - val_accuracy: 0.5550\n",
      "Epoch 8/50\n",
      "359/359 [==============================] - 107s 298ms/step - loss: 1.1398 - accuracy: 0.5666 - val_loss: 1.2775 - val_accuracy: 0.5225\n",
      "Epoch 9/50\n",
      "359/359 [==============================] - 99s 275ms/step - loss: 1.1121 - accuracy: 0.5784 - val_loss: 1.3529 - val_accuracy: 0.5003\n",
      "Epoch 10/50\n",
      "359/359 [==============================] - 97s 270ms/step - loss: 1.0834 - accuracy: 0.5892 - val_loss: 1.1887 - val_accuracy: 0.5636\n",
      "Epoch 11/50\n",
      "359/359 [==============================] - 94s 262ms/step - loss: 1.0612 - accuracy: 0.5999 - val_loss: 1.2219 - val_accuracy: 0.5592\n",
      "Epoch 12/50\n",
      "359/359 [==============================] - 94s 262ms/step - loss: 1.0392 - accuracy: 0.6067 - val_loss: 1.1544 - val_accuracy: 0.5825\n",
      "Epoch 13/50\n",
      "359/359 [==============================] - 128s 358ms/step - loss: 1.0164 - accuracy: 0.6174 - val_loss: 1.2645 - val_accuracy: 0.5253\n",
      "Epoch 14/50\n",
      "359/359 [==============================] - 115s 321ms/step - loss: 0.9904 - accuracy: 0.6287 - val_loss: 1.2393 - val_accuracy: 0.5493\n",
      "Epoch 15/50\n",
      "359/359 [==============================] - 119s 331ms/step - loss: 0.9488 - accuracy: 0.6431 - val_loss: 1.1743 - val_accuracy: 0.5845\n",
      "Epoch 16/50\n",
      "359/359 [==============================] - 101s 280ms/step - loss: 0.9365 - accuracy: 0.6478 - val_loss: 1.1572 - val_accuracy: 0.5775\n",
      "Epoch 17/50\n",
      "359/359 [==============================] - 101s 280ms/step - loss: 0.9209 - accuracy: 0.6527 - val_loss: 1.2090 - val_accuracy: 0.5702\n",
      "Epoch 18/50\n",
      "359/359 [==============================] - 98s 272ms/step - loss: 0.8865 - accuracy: 0.6689 - val_loss: 1.2239 - val_accuracy: 0.5550\n",
      "Epoch 19/50\n",
      "359/359 [==============================] - 95s 266ms/step - loss: 0.8625 - accuracy: 0.6764 - val_loss: 1.2202 - val_accuracy: 0.5768\n",
      "Epoch 20/50\n",
      "359/359 [==============================] - 96s 267ms/step - loss: 0.8543 - accuracy: 0.6778 - val_loss: 1.1639 - val_accuracy: 0.5843\n",
      "Epoch 21/50\n",
      "359/359 [==============================] - 93s 258ms/step - loss: 0.8231 - accuracy: 0.6909 - val_loss: 1.1775 - val_accuracy: 0.5780\n",
      "Epoch 22/50\n",
      "359/359 [==============================] - 92s 257ms/step - loss: 0.8145 - accuracy: 0.6954 - val_loss: 1.1785 - val_accuracy: 0.5906\n"
     ]
    }
   ],
   "source": [
    "history = model.fit(X_train, y_train, epochs=50, batch_size=64, validation_data=(X_val, y_val), callbacks=[checkpoint, early_stopping])"
   ]
  },
  {
   "cell_type": "code",
   "execution_count": 12,
   "metadata": {},
   "outputs": [],
   "source": [
    "best_model = load_model('best_model.h5')"
   ]
  },
  {
   "cell_type": "code",
   "execution_count": 14,
   "metadata": {},
   "outputs": [
    {
     "name": "stdout",
     "output_type": "stream",
     "text": [
      "Saved model to C:\\Users\\LIYANA\\OneDrive\\Documents\\Projects\\best_model_copy.h5\n"
     ]
    }
   ],
   "source": [
    "import shutil\n",
    "\n",
    "source = 'best_model.h5'\n",
    "destination = r\"C:\\Users\\LIYANA\\OneDrive\\Documents\\Projects\\best_model_copy.h5\"  # Different filename\n",
    "\n",
    "shutil.copyfile(source, destination)\n",
    "print(f'Saved model to {destination}')"
   ]
  },
  {
   "cell_type": "code",
   "execution_count": null,
   "metadata": {},
   "outputs": [
    {
     "name": "stdout",
     "output_type": "stream",
     "text": [
      "180/180 [==============================] - 7s 33ms/step - loss: 1.1112 - accuracy: 0.6181\n",
      "Validation Loss: 1.1112223863601685\n",
      "Validation Accuracy: 0.6180773377418518\n"
     ]
    }
   ],
   "source": [
    "val_loss, val_accuracy = best_model.evaluate(X_val, y_val)\n",
    "print(f'Validation Loss: {val_loss}')\n",
    "print(f'Validation Accuracy: {val_accuracy}')"
   ]
  },
  {
   "cell_type": "code",
   "execution_count": null,
   "metadata": {},
   "outputs": [],
   "source": []
  }
 ],
 "metadata": {
  "kernelspec": {
   "display_name": "Python 3",
   "language": "python",
   "name": "python3"
  },
  "language_info": {
   "codemirror_mode": {
    "name": "ipython",
    "version": 3
   },
   "file_extension": ".py",
   "mimetype": "text/x-python",
   "name": "python",
   "nbconvert_exporter": "python",
   "pygments_lexer": "ipython3",
   "version": "3.11.5"
  }
 },
 "nbformat": 4,
 "nbformat_minor": 2
}
